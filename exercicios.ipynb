{
 "cells": [
  {
   "cell_type": "code",
   "execution_count": 26,
   "metadata": {},
   "outputs": [
    {
     "name": "stdout",
     "output_type": "stream",
     "text": [
      "É uma vogal\n"
     ]
    }
   ],
   "source": [
    "#verificar se a letra digitada é vogal ou consoante\n",
    "letra = input('Digite uma letra: ')\n",
    "if letra not in '0123456789':\n",
    "    if letra in 'aeiou' or letra in 'AEIOU':\n",
    "        print('É uma vogal')\n",
    "    else:\n",
    "        print('É uma consoante')"
   ]
  },
  {
   "cell_type": "code",
   "execution_count": 25,
   "metadata": {},
   "outputs": [
    {
     "name": "stdout",
     "output_type": "stream",
     "text": [
      "15\n"
     ]
    }
   ],
   "source": [
    "#selecionar o produto mais barato dos 3\n",
    "produto_precos = [None]*3\n",
    "\n",
    "for indice, produto in enumerate(produto_precos):\n",
    "    produto_precos[indice] = int(input('Digite o preco do produto: '))\n",
    "\n",
    "menor_preco = produto_precos[0]\n",
    "\n",
    "for indice, produto in enumerate(produto_precos):\n",
    "    if produto < menor_preco:\n",
    "        menor_preco = produto\n",
    "\n",
    "print(menor_preco)"
   ]
  },
  {
   "cell_type": "code",
   "execution_count": 24,
   "metadata": {},
   "outputs": [
    {
     "name": "stdout",
     "output_type": "stream",
     "text": [
      "[60, 40, 15]\n"
     ]
    }
   ],
   "source": [
    "#exibir numeros em ordem decrescente\n",
    "\n",
    "numeros = []\n",
    "\n",
    "for i in range(3):\n",
    "    numero = int(input('Digite um número: '))\n",
    "    numeros.append(numero)\n",
    "\n",
    "numeros.sort(reverse=True)\n",
    "\n",
    "print(numeros)"
   ]
  },
  {
   "cell_type": "code",
   "execution_count": 23,
   "metadata": {},
   "outputs": [
    {
     "name": "stdout",
     "output_type": "stream",
     "text": [
      "Boa noite!\n"
     ]
    }
   ],
   "source": [
    "#Qual é seu turno\n",
    "\n",
    "turno = input('Qual é seu turno?\\nMatutino [M] Vespertino [V] Noturno [N]\\n')\n",
    "\n",
    "if turno == 'M':\n",
    "    print('Bom dia!')\n",
    "elif turno == 'V':\n",
    "    print('Boa tarde!')\n",
    "elif turno == 'N':\n",
    "    print('Boa noite!')\n",
    "else:\n",
    "    print('Valor inválido!')"
   ]
  },
  {
   "cell_type": "code",
   "execution_count": null,
   "metadata": {},
   "outputs": [],
   "source": [
    "#dias da semana\n",
    "\n",
    "dia_da_semana = int(input('Digite um dia da semana: [1-7]\\n'))\n",
    "if dia_da_semana == 1:\n",
    "    print('domingo')\n",
    "elif dia_da_semana == 2:\n",
    "    print('segunda')\n",
    "elif dia_da_semana == 3:\n",
    "    print('terça')\n",
    "elif dia_da_semana == 4:\n",
    "    print('quarta')\n",
    "elif dia_da_semana == 5:\n",
    "    print('quinta')\n",
    "elif dia_da_semana == 6:\n",
    "    print('sexta')\n",
    "elif dia_da_semana == 7:\n",
    "    print('sábado')\n",
    "else:\n",
    "    print('Valor inválido')"
   ]
  },
  {
   "cell_type": "code",
   "execution_count": 19,
   "metadata": {},
   "outputs": [
    {
     "name": "stdout",
     "output_type": "stream",
     "text": [
      "O aluno atingiu a média 7.5, obtendo conceito C e ficando Aprovado\n"
     ]
    }
   ],
   "source": [
    "# calcular média e atribuir conceito a ela\n",
    "\n",
    "nota1 = float(input('Digite a primeira nota: '))\n",
    "nota2 = float(input('Digite a segunda nota: '))\n",
    "\n",
    "soma = nota1 + nota2\n",
    "media = soma/2\n",
    "conceito = ''\n",
    "mensagem = ''\n",
    "\n",
    "if media > 9.0 and media <= 10.0:\n",
    "     conceito = 'A'\n",
    "elif media > 7.5 and media <= 9.0:\n",
    "    conceito = 'B'\n",
    "elif media > 6.0 and media <= 7.5:\n",
    "    conceito = 'C'\n",
    "elif media > 4.0 and media <= 6.0:\n",
    "    conceito = 'D'\n",
    "elif media >= 0.0 and media <= 4.0:\n",
    "    conceito = 'E'\n",
    "    \n",
    "if conceito in ('A', 'B', 'C'):\n",
    "    mensagem = 'Aprovado'\n",
    "else:\n",
    "    mensagem = 'Reprovado'\n",
    "    \n",
    "print(f'O aluno atingiu a média {media}, obtendo conceito {conceito} e ficando {mensagem}')"
   ]
  },
  {
   "cell_type": "code",
   "execution_count": 18,
   "metadata": {},
   "outputs": [
    {
     "name": "stdout",
     "output_type": "stream",
     "text": [
      "O ano 2026 não é bissexto\n"
     ]
    }
   ],
   "source": [
    "#Ano bissexto\n",
    "\n",
    "ano = int(input('Digite um ano: '))\n",
    "\n",
    "if ano % 4 == 0:\n",
    "    print(f'O ano {ano} é bissexto')\n",
    "else:\n",
    "    print(f'O ano {ano} não é bissexto')"
   ]
  },
  {
   "cell_type": "code",
   "execution_count": 17,
   "metadata": {},
   "outputs": [
    {
     "name": "stdout",
     "output_type": "stream",
     "text": [
      "Resultado: 2.0 - é um número par, positivo e inteiro\n"
     ]
    }
   ],
   "source": [
    "\n",
    "#Calculadora\n",
    "\n",
    "numero1 = float(input('Digite o primeiro número: '))\n",
    "numero2 = float(input('Digite o segundo número: '))\n",
    "\n",
    "operacao = input('Digite uma operação: ')\n",
    "\n",
    "resultado = 0\n",
    "par_ou_impar = ''\n",
    "positivo_ou_negativo = ''\n",
    "inteiro_ou_decimal = ''\n",
    "\n",
    "if operacao == 'soma':\n",
    "    resultado = numero1 + numero2\n",
    "elif operacao == 'subtração':\n",
    "    resultado = numero1 - numero2\n",
    "elif operacao == 'divisão':\n",
    "    resultado = numero1 / numero2\n",
    "elif operacao == 'multiplicação':\n",
    "    resultado = numero1 * numero2\n",
    "elif operacao == 'exponenciação':\n",
    "    resultado = numero1 ** numero2\n",
    "\n",
    "if resultado % 2 == 0:\n",
    "    par_ou_impar = 'par'\n",
    "else:\n",
    "    par_ou_impar = 'impar'\n",
    "    \n",
    "if resultado >= 0:\n",
    "    positivo_ou_negativo = 'positivo'\n",
    "else:\n",
    "    positivo_ou_negativo = 'negativo'\n",
    "    \n",
    "if resultado.is_integer():\n",
    "    inteiro_ou_decimal = 'inteiro'\n",
    "else:\n",
    "    inteiro_ou_decimal = 'decimal'\n",
    "    \n",
    "print(f'Resultado: {resultado} - é um número {par_ou_impar}, {positivo_ou_negativo} e {inteiro_ou_decimal}')"
   ]
  },
  {
   "cell_type": "code",
   "execution_count": 15,
   "metadata": {},
   "outputs": [
    {
     "name": "stdout",
     "output_type": "stream",
     "text": [
      "Sua idade é 75\n"
     ]
    }
   ],
   "source": [
    "#Digitar idade\n",
    "\n",
    "idade = int(input('Digite sua idade: '))\n",
    "if idade >= 0 and idade <= 150:\n",
    "    print(f'Sua idade é {idade}')"
   ]
  },
  {
   "cell_type": "code",
   "execution_count": 14,
   "metadata": {},
   "outputs": [
    {
     "name": "stdout",
     "output_type": "stream",
     "text": [
      "Soma: 165.0 / Media: 33.0\n"
     ]
    }
   ],
   "source": [
    "#soma e media de numeros\n",
    "\n",
    "soma = 0\n",
    "numeros = []\n",
    "\n",
    "for i in range(5):\n",
    "    numero = float(input('Digite um numero: '))\n",
    "    numeros.append(numero)\n",
    "\n",
    "for numero in numeros:\n",
    "    soma += numero\n",
    "    \n",
    "media = soma / 5\n",
    "\n",
    "print(f'Soma: {soma} / Media: {media}')"
   ]
  },
  {
   "cell_type": "code",
   "execution_count": 13,
   "metadata": {},
   "outputs": [
    {
     "name": "stdout",
     "output_type": "stream",
     "text": [
      "o número 17 é primo\n"
     ]
    }
   ],
   "source": [
    "#verificar numero primo\n",
    "\n",
    "numero = int(input('Digite um número: '))\n",
    "\n",
    "contador_de_divisoes = 0\n",
    "eh_primo = False\n",
    "\n",
    "for divisor in range(1, numero + 1): \n",
    "    if numero % divisor == 0:\n",
    "        contador_de_divisoes += 1\n",
    "    \n",
    "if contador_de_divisoes == 2:\n",
    "    eh_primo = True\n",
    "else:\n",
    "    eh_primo = False\n",
    "\n",
    "print(f'o número {numero} {'é primo' if eh_primo else 'não é primo'}')"
   ]
  },
  {
   "cell_type": "code",
   "execution_count": 12,
   "metadata": {},
   "outputs": [
    {
     "name": "stdout",
     "output_type": "stream",
     "text": [
      "A maior temperatura é 60.0\n",
      "A menor temperatura é 10.0\n",
      "A temperatura média é 32.0\n"
     ]
    }
   ],
   "source": [
    "#menor / maior / media de 5 temperaturas\n",
    "\n",
    "temperaturas = []\n",
    "soma = 0\n",
    "media = 0\n",
    "\n",
    "for i in range(5):\n",
    "    temperatura = float(input('Digite uma temperatura: '))\n",
    "    temperaturas.append(temperatura)\n",
    "\n",
    "menor = temperaturas[0]\n",
    "maior = temperaturas[0]\n",
    "\n",
    "for temperatura in temperaturas:\n",
    "    if temperatura < menor:\n",
    "        menor = temperatura\n",
    "    if temperatura > maior:\n",
    "        maior = temperatura\n",
    "    soma += temperatura\n",
    "\n",
    "media = soma / len(temperaturas)\n",
    "\n",
    "print(f'A maior temperatura é {maior}')\n",
    "print(f'A menor temperatura é {menor}')\n",
    "print(f'A temperatura média é {media}')"
   ]
  },
  {
   "cell_type": "code",
   "execution_count": 11,
   "metadata": {},
   "outputs": [
    {
     "name": "stdout",
     "output_type": "stream",
     "text": [
      "Saldo médio: 350.0\n",
      "Valor do crédito: 420.0\n"
     ]
    }
   ],
   "source": [
    "#Determinar saldo médio\n",
    "\n",
    "saldo_medio = float(input('Digite seu saldo medio: '))\n",
    "valor_do_credito = 0\n",
    "\n",
    "if saldo_medio >= 0 and saldo_medio <= 200:\n",
    "    valor_do_credito = saldo_medio\n",
    "elif saldo_medio > 200 and saldo_medio <= 400:\n",
    "    valor_do_credito = saldo_medio + saldo_medio * 0.2\n",
    "elif saldo_medio > 400 and saldo_medio <= 600:\n",
    "    valor_do_credito = saldo_medio + saldo_medio * 0.3\n",
    "elif saldo_medio > 600:\n",
    "    valor_do_credito = saldo_medio + saldo_medio * 0.4\n",
    "\n",
    "print('Saldo médio:', saldo_medio)\n",
    "print('Valor do crédito:', valor_do_credito)"
   ]
  },
  {
   "cell_type": "code",
   "execution_count": 10,
   "metadata": {},
   "outputs": [
    {
     "name": "stdout",
     "output_type": "stream",
     "text": [
      "Senhor lucas, o ano esperado para sua aposentaria é 2074\n"
     ]
    }
   ],
   "source": [
    "#INSS\n",
    "IDADE_PARA_APOSENTAR = 65\n",
    "ANO_ATUAL = 2024\n",
    "\n",
    "nome = input('Digite o seu nome: ')\n",
    "idade = int(input('Digite a sua idade: '))\n",
    "\n",
    "anos_para_aposentar = IDADE_PARA_APOSENTAR - idade\n",
    "aposentadoria = ANO_ATUAL + anos_para_aposentar\n",
    "\n",
    "print(f'Senhor {nome}, o ano esperado para sua aposentaria é {aposentadoria}')"
   ]
  },
  {
   "cell_type": "code",
   "execution_count": 8,
   "metadata": {},
   "outputs": [
    {
     "name": "stdout",
     "output_type": "stream",
     "text": [
      "Seu salário liquido é R$ 11220.0\n"
     ]
    }
   ],
   "source": [
    "#Folha de pagamento\n",
    "valor_da_hora_trabalhada = float(input('Digite o valor da sua hora trabalhada: '))\n",
    "quantidade_de_horas_trabalhadas = int(input('Digite a quantidade de horas trabalhadas no mês: '))\n",
    "\n",
    "SINDICATO = 0.03\n",
    "FGTS = 0.11\n",
    "\n",
    "salario_bruto = valor_da_hora_trabalhada * quantidade_de_horas_trabalhadas\n",
    "\n",
    "descontos = [1, 1.075, 1.15, 1.225, 1.275]\n",
    "salario_liquido = 0\n",
    "\n",
    "if salario_bruto <= 2112.0:\n",
    "    salario_liquido = salario_bruto*descontos[0]\n",
    "elif salario_bruto > 2112.0 and salario_bruto <= 2826.65:\n",
    "    salario_liquido = salario_bruto*descontos[1]\n",
    "elif salario_bruto > 2826.65 and salario_bruto <= 3751.05:\n",
    "    salario_liquido = salario_bruto*descontos[2]\n",
    "elif salario_bruto > 3751.05 and salario_bruto <= 4664.68:\n",
    "    salario_liquido = salario_bruto*descontos[3]\n",
    "elif salario_bruto > 4664.68:\n",
    "    salario_liquido = salario_bruto*descontos[4]\n",
    "\n",
    "print(f'Seu salário liquido é R$ {salario_liquido}')"
   ]
  }
 ],
 "metadata": {
  "kernelspec": {
   "display_name": "Python 3",
   "language": "python",
   "name": "python3"
  },
  "language_info": {
   "codemirror_mode": {
    "name": "ipython",
    "version": 3
   },
   "file_extension": ".py",
   "mimetype": "text/x-python",
   "name": "python",
   "nbconvert_exporter": "python",
   "pygments_lexer": "ipython3",
   "version": "3.12.3"
  }
 },
 "nbformat": 4,
 "nbformat_minor": 2
}
